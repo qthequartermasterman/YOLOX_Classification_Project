{
 "cells": [
  {
   "cell_type": "markdown",
   "metadata": {},
   "source": [
    "## Import Modules"
   ]
  },
  {
   "cell_type": "code",
   "execution_count": 1,
   "metadata": {},
   "outputs": [],
   "source": [
    "import mediapipe as mp\n",
    "import cv2\n",
    "import time\n",
    "import numpy as np\n",
    "import pandas as pd\n",
    "import os\n",
    "from pathlib import Path\n",
    "from random import randint\n",
    "from typing import List\n",
    "import pickle\n",
    "\n",
    "import torch\n",
    "from torch import nn\n",
    "\n",
    "from torch.nn import functional as F\n",
    "\n",
    "from yolox.data_augment import preproc\n",
    "from yolox.yolox import YOLOX, get_model, IdentityModule\n",
    "\n",
    "from sklearn.preprocessing import LabelEncoder\n",
    "from sklearn.utils import shuffle\n",
    "from sklearn.svm import SVC\n",
    "from sklearn.model_selection import GridSearchCV\n",
    "from sklearn.metrics import balanced_accuracy_score\n",
    "from sklearn.metrics import classification_report\n",
    "\n",
    "from skorch import NeuralNetClassifier\n",
    "\n",
    "import matplotlib.pyplot as plt\n",
    "import seaborn as sns\n",
    "import altair as alt\n",
    "\n",
    "\n",
    "import warnings\n",
    "warnings.filterwarnings('ignore')"
   ]
  },
  {
   "cell_type": "markdown",
   "metadata": {},
   "source": [
    "## 1. Load the dataset"
   ]
  },
  {
   "cell_type": "markdown",
   "metadata": {},
   "source": [
    "### I. Baseline Model"
   ]
  },
  {
   "cell_type": "code",
   "execution_count": 2,
   "metadata": {},
   "outputs": [],
   "source": [
    "# Preparation\n",
    "mpPose = mp.solutions.pose\n",
    "pose = mpPose.Pose()\n",
    "mpDraw = mp.solutions.drawing_utils # For drawing keypoints\n",
    "points = mpPose.PoseLandmark # Landmarks\n",
    "path = \"dataset/train/\"\n",
    "data = []\n",
    "for p in points:\n",
    "        x = str(p)[13:]\n",
    "        data.append(x + \"_x\")\n",
    "        data.append(x + \"_y\")\n",
    "        data.append(x + \"_z\")\n",
    "        data.append(x + \"_vis\")\n",
    "data = pd.DataFrame(columns = data) # Empty dataset"
   ]
  },
  {
   "cell_type": "code",
   "execution_count": 3,
   "metadata": {},
   "outputs": [
    {
     "name": "stderr",
     "output_type": "stream",
     "text": [
      "INFO: Created TensorFlow Lite XNNPACK delegate for CPU.\n",
      "Premature end of JPEG file\n",
      "Corrupt JPEG data: premature end of data segment\n"
     ]
    }
   ],
   "source": [
    "# Creating Dataset\n",
    "target = []\n",
    "images_arrays = []\n",
    "count = 0\n",
    "\n",
    "for subdir, dirs, files in os.walk(path):\n",
    "    for img in files:\n",
    "        temp = []\n",
    "        img = os.path.join(subdir, img)\n",
    "        img = cv2.imread(img)\n",
    "\n",
    "        imgRGB = cv2.cvtColor(img, cv2.COLOR_BGR2RGB)\n",
    "        blackie = np.zeros(img.shape) # Blank image\n",
    "        results = pose.process(imgRGB)\n",
    "\n",
    "\n",
    "        if results.pose_landmarks:\n",
    "                mpDraw.draw_landmarks(blackie, results.pose_landmarks, mpPose.POSE_CONNECTIONS) # draw landmarks on blackie\n",
    "                landmarks = results.pose_landmarks.landmark\n",
    "\n",
    "                for i,j in zip(points,landmarks):\n",
    "                        temp = temp + [j.x, j.y, j.z, j.visibility]\n",
    "                data.loc[count] = temp\n",
    "                target.append(subdir.replace(path, ''))\n",
    "                count +=1\n",
    "\n",
    "\n",
    "data['target'] = target"
   ]
  },
  {
   "cell_type": "code",
   "execution_count": 4,
   "metadata": {},
   "outputs": [],
   "source": [
    "# Label Encoding for target\n",
    "labelencoder = LabelEncoder()\n",
    "data['target'] = labelencoder.fit_transform(data['target'])"
   ]
  },
  {
   "cell_type": "code",
   "execution_count": 5,
   "metadata": {},
   "outputs": [
    {
     "data": {
      "text/html": [
       "<div>\n",
       "<style scoped>\n",
       "    .dataframe tbody tr th:only-of-type {\n",
       "        vertical-align: middle;\n",
       "    }\n",
       "\n",
       "    .dataframe tbody tr th {\n",
       "        vertical-align: top;\n",
       "    }\n",
       "\n",
       "    .dataframe thead th {\n",
       "        text-align: right;\n",
       "    }\n",
       "</style>\n",
       "<table border=\"1\" class=\"dataframe\">\n",
       "  <thead>\n",
       "    <tr style=\"text-align: right;\">\n",
       "      <th></th>\n",
       "      <th>NOSE_x</th>\n",
       "      <th>NOSE_y</th>\n",
       "      <th>NOSE_z</th>\n",
       "      <th>NOSE_vis</th>\n",
       "      <th>LEFT_EYE_INNER_x</th>\n",
       "      <th>LEFT_EYE_INNER_y</th>\n",
       "      <th>LEFT_EYE_INNER_z</th>\n",
       "      <th>LEFT_EYE_INNER_vis</th>\n",
       "      <th>LEFT_EYE_x</th>\n",
       "      <th>LEFT_EYE_y</th>\n",
       "      <th>...</th>\n",
       "      <th>RIGHT_HEEL_vis</th>\n",
       "      <th>LEFT_FOOT_INDEX_x</th>\n",
       "      <th>LEFT_FOOT_INDEX_y</th>\n",
       "      <th>LEFT_FOOT_INDEX_z</th>\n",
       "      <th>LEFT_FOOT_INDEX_vis</th>\n",
       "      <th>RIGHT_FOOT_INDEX_x</th>\n",
       "      <th>RIGHT_FOOT_INDEX_y</th>\n",
       "      <th>RIGHT_FOOT_INDEX_z</th>\n",
       "      <th>RIGHT_FOOT_INDEX_vis</th>\n",
       "      <th>target</th>\n",
       "    </tr>\n",
       "  </thead>\n",
       "  <tbody>\n",
       "    <tr>\n",
       "      <th>0</th>\n",
       "      <td>0.385088</td>\n",
       "      <td>0.702528</td>\n",
       "      <td>-0.004816</td>\n",
       "      <td>0.999651</td>\n",
       "      <td>0.364045</td>\n",
       "      <td>0.705285</td>\n",
       "      <td>-0.031445</td>\n",
       "      <td>0.999706</td>\n",
       "      <td>0.361666</td>\n",
       "      <td>0.700772</td>\n",
       "      <td>...</td>\n",
       "      <td>0.525770</td>\n",
       "      <td>0.781881</td>\n",
       "      <td>0.930616</td>\n",
       "      <td>-0.215838</td>\n",
       "      <td>0.980343</td>\n",
       "      <td>0.763475</td>\n",
       "      <td>0.904605</td>\n",
       "      <td>0.165073</td>\n",
       "      <td>0.610637</td>\n",
       "      <td>0</td>\n",
       "    </tr>\n",
       "    <tr>\n",
       "      <th>1</th>\n",
       "      <td>0.470336</td>\n",
       "      <td>0.691998</td>\n",
       "      <td>-0.604218</td>\n",
       "      <td>0.982091</td>\n",
       "      <td>0.445842</td>\n",
       "      <td>0.705398</td>\n",
       "      <td>-0.624718</td>\n",
       "      <td>0.987435</td>\n",
       "      <td>0.437711</td>\n",
       "      <td>0.699783</td>\n",
       "      <td>...</td>\n",
       "      <td>0.526152</td>\n",
       "      <td>0.778034</td>\n",
       "      <td>0.569747</td>\n",
       "      <td>0.541724</td>\n",
       "      <td>0.935673</td>\n",
       "      <td>0.764064</td>\n",
       "      <td>0.639336</td>\n",
       "      <td>0.467184</td>\n",
       "      <td>0.604327</td>\n",
       "      <td>0</td>\n",
       "    </tr>\n",
       "    <tr>\n",
       "      <th>2</th>\n",
       "      <td>0.453251</td>\n",
       "      <td>0.615995</td>\n",
       "      <td>-0.057232</td>\n",
       "      <td>0.983838</td>\n",
       "      <td>0.440873</td>\n",
       "      <td>0.630020</td>\n",
       "      <td>-0.067001</td>\n",
       "      <td>0.988656</td>\n",
       "      <td>0.440118</td>\n",
       "      <td>0.630212</td>\n",
       "      <td>...</td>\n",
       "      <td>0.552748</td>\n",
       "      <td>0.769751</td>\n",
       "      <td>0.797690</td>\n",
       "      <td>0.004431</td>\n",
       "      <td>0.937697</td>\n",
       "      <td>0.743715</td>\n",
       "      <td>0.761387</td>\n",
       "      <td>0.285678</td>\n",
       "      <td>0.625030</td>\n",
       "      <td>0</td>\n",
       "    </tr>\n",
       "    <tr>\n",
       "      <th>3</th>\n",
       "      <td>0.401504</td>\n",
       "      <td>0.383240</td>\n",
       "      <td>-0.309374</td>\n",
       "      <td>0.984927</td>\n",
       "      <td>0.436412</td>\n",
       "      <td>0.378602</td>\n",
       "      <td>-0.318324</td>\n",
       "      <td>0.989338</td>\n",
       "      <td>0.404689</td>\n",
       "      <td>0.379723</td>\n",
       "      <td>...</td>\n",
       "      <td>0.591222</td>\n",
       "      <td>0.622063</td>\n",
       "      <td>0.713210</td>\n",
       "      <td>-0.035523</td>\n",
       "      <td>0.916048</td>\n",
       "      <td>0.569005</td>\n",
       "      <td>0.763766</td>\n",
       "      <td>-0.045453</td>\n",
       "      <td>0.652138</td>\n",
       "      <td>0</td>\n",
       "    </tr>\n",
       "    <tr>\n",
       "      <th>4</th>\n",
       "      <td>0.450490</td>\n",
       "      <td>0.683425</td>\n",
       "      <td>-0.067524</td>\n",
       "      <td>0.986200</td>\n",
       "      <td>0.446467</td>\n",
       "      <td>0.690085</td>\n",
       "      <td>-0.090036</td>\n",
       "      <td>0.990196</td>\n",
       "      <td>0.426712</td>\n",
       "      <td>0.690337</td>\n",
       "      <td>...</td>\n",
       "      <td>0.598638</td>\n",
       "      <td>0.656271</td>\n",
       "      <td>0.870245</td>\n",
       "      <td>0.077734</td>\n",
       "      <td>0.911403</td>\n",
       "      <td>0.668724</td>\n",
       "      <td>0.867453</td>\n",
       "      <td>0.307724</td>\n",
       "      <td>0.658130</td>\n",
       "      <td>0</td>\n",
       "    </tr>\n",
       "  </tbody>\n",
       "</table>\n",
       "<p>5 rows × 133 columns</p>\n",
       "</div>"
      ],
      "text/plain": [
       "     NOSE_x    NOSE_y    NOSE_z  NOSE_vis  LEFT_EYE_INNER_x  LEFT_EYE_INNER_y  \\\n",
       "0  0.385088  0.702528 -0.004816  0.999651          0.364045          0.705285   \n",
       "1  0.470336  0.691998 -0.604218  0.982091          0.445842          0.705398   \n",
       "2  0.453251  0.615995 -0.057232  0.983838          0.440873          0.630020   \n",
       "3  0.401504  0.383240 -0.309374  0.984927          0.436412          0.378602   \n",
       "4  0.450490  0.683425 -0.067524  0.986200          0.446467          0.690085   \n",
       "\n",
       "   LEFT_EYE_INNER_z  LEFT_EYE_INNER_vis  LEFT_EYE_x  LEFT_EYE_y  ...  \\\n",
       "0         -0.031445            0.999706    0.361666    0.700772  ...   \n",
       "1         -0.624718            0.987435    0.437711    0.699783  ...   \n",
       "2         -0.067001            0.988656    0.440118    0.630212  ...   \n",
       "3         -0.318324            0.989338    0.404689    0.379723  ...   \n",
       "4         -0.090036            0.990196    0.426712    0.690337  ...   \n",
       "\n",
       "   RIGHT_HEEL_vis  LEFT_FOOT_INDEX_x  LEFT_FOOT_INDEX_y  LEFT_FOOT_INDEX_z  \\\n",
       "0        0.525770           0.781881           0.930616          -0.215838   \n",
       "1        0.526152           0.778034           0.569747           0.541724   \n",
       "2        0.552748           0.769751           0.797690           0.004431   \n",
       "3        0.591222           0.622063           0.713210          -0.035523   \n",
       "4        0.598638           0.656271           0.870245           0.077734   \n",
       "\n",
       "   LEFT_FOOT_INDEX_vis  RIGHT_FOOT_INDEX_x  RIGHT_FOOT_INDEX_y  \\\n",
       "0             0.980343            0.763475            0.904605   \n",
       "1             0.935673            0.764064            0.639336   \n",
       "2             0.937697            0.743715            0.761387   \n",
       "3             0.916048            0.569005            0.763766   \n",
       "4             0.911403            0.668724            0.867453   \n",
       "\n",
       "   RIGHT_FOOT_INDEX_z  RIGHT_FOOT_INDEX_vis  target  \n",
       "0            0.165073              0.610637       0  \n",
       "1            0.467184              0.604327       0  \n",
       "2            0.285678              0.625030       0  \n",
       "3           -0.045453              0.652138       0  \n",
       "4            0.307724              0.658130       0  \n",
       "\n",
       "[5 rows x 133 columns]"
      ]
     },
     "execution_count": 5,
     "metadata": {},
     "output_type": "execute_result"
    }
   ],
   "source": [
    "# Displaying Dataset\n",
    "data.head(5)"
   ]
  },
  {
   "cell_type": "markdown",
   "metadata": {
    "tags": []
   },
   "source": [
    "#### Exploratory Data Analysis"
   ]
  },
  {
   "cell_type": "code",
   "execution_count": 6,
   "metadata": {},
   "outputs": [
    {
     "data": {
      "text/html": [
       "\n",
       "<div id=\"altair-viz-e4c8a02b64634499b85dd947e9c1f479\"></div>\n",
       "<script type=\"text/javascript\">\n",
       "  (function(spec, embedOpt){\n",
       "    let outputDiv = document.currentScript.previousElementSibling;\n",
       "    if (outputDiv.id !== \"altair-viz-e4c8a02b64634499b85dd947e9c1f479\") {\n",
       "      outputDiv = document.getElementById(\"altair-viz-e4c8a02b64634499b85dd947e9c1f479\");\n",
       "    }\n",
       "    const paths = {\n",
       "      \"vega\": \"https://cdn.jsdelivr.net/npm//vega@5?noext\",\n",
       "      \"vega-lib\": \"https://cdn.jsdelivr.net/npm//vega-lib?noext\",\n",
       "      \"vega-lite\": \"https://cdn.jsdelivr.net/npm//vega-lite@4.8.1?noext\",\n",
       "      \"vega-embed\": \"https://cdn.jsdelivr.net/npm//vega-embed@6?noext\",\n",
       "    };\n",
       "\n",
       "    function loadScript(lib) {\n",
       "      return new Promise(function(resolve, reject) {\n",
       "        var s = document.createElement('script');\n",
       "        s.src = paths[lib];\n",
       "        s.async = true;\n",
       "        s.onload = () => resolve(paths[lib]);\n",
       "        s.onerror = () => reject(`Error loading script: ${paths[lib]}`);\n",
       "        document.getElementsByTagName(\"head\")[0].appendChild(s);\n",
       "      });\n",
       "    }\n",
       "\n",
       "    function showError(err) {\n",
       "      outputDiv.innerHTML = `<div class=\"error\" style=\"color:red;\">${err}</div>`;\n",
       "      throw err;\n",
       "    }\n",
       "\n",
       "    function displayChart(vegaEmbed) {\n",
       "      vegaEmbed(outputDiv, spec, embedOpt)\n",
       "        .catch(err => showError(`Javascript Error: ${err.message}<br>This usually means there's a typo in your chart specification. See the javascript console for the full traceback.`));\n",
       "    }\n",
       "\n",
       "    if(typeof define === \"function\" && define.amd) {\n",
       "      requirejs.config({paths});\n",
       "      require([\"vega-embed\"], displayChart, err => showError(`Error loading script: ${err.message}`));\n",
       "    } else if (typeof vegaEmbed === \"function\") {\n",
       "      displayChart(vegaEmbed);\n",
       "    } else {\n",
       "      loadScript(\"vega\")\n",
       "        .then(() => loadScript(\"vega-lite\"))\n",
       "        .then(() => loadScript(\"vega-embed\"))\n",
       "        .catch(showError)\n",
       "        .then(() => displayChart(vegaEmbed));\n",
       "    }\n",
       "  })({\"config\": {\"view\": {\"continuousWidth\": 400, \"continuousHeight\": 300}}, \"data\": {\"name\": \"data-45b0f0e8af1628084e89ee1ec4750d29\"}, \"mark\": {\"type\": \"bar\", \"size\": 50}, \"encoding\": {\"color\": {\"type\": \"nominal\", \"field\": \"label\"}, \"tooltip\": [{\"type\": \"quantitative\", \"aggregate\": \"count\", \"title\": \"Count\"}, {\"type\": \"nominal\", \"field\": \"label\"}], \"x\": {\"type\": \"nominal\", \"axis\": {\"title\": \"Pose\"}, \"field\": \"label\"}, \"y\": {\"type\": \"quantitative\", \"aggregate\": \"count\", \"axis\": {\"title\": \"Count\"}}}, \"height\": 300, \"selection\": {\"selector001\": {\"type\": \"interval\", \"bind\": \"scales\", \"encodings\": [\"x\", \"y\"]}}, \"title\": \"Number of data in each pose\", \"width\": 700, \"$schema\": \"https://vega.github.io/schema/vega-lite/v4.8.1.json\", \"datasets\": {\"data-45b0f0e8af1628084e89ee1ec4750d29\": [{\"label\": \"downdog\"}, {\"label\": \"downdog\"}, {\"label\": \"downdog\"}, {\"label\": \"downdog\"}, {\"label\": \"downdog\"}, {\"label\": \"downdog\"}, {\"label\": \"downdog\"}, {\"label\": \"downdog\"}, {\"label\": \"downdog\"}, {\"label\": \"downdog\"}, {\"label\": \"downdog\"}, {\"label\": \"downdog\"}, {\"label\": \"downdog\"}, {\"label\": \"downdog\"}, {\"label\": \"downdog\"}, {\"label\": \"downdog\"}, {\"label\": \"downdog\"}, {\"label\": \"downdog\"}, {\"label\": \"downdog\"}, {\"label\": \"downdog\"}, {\"label\": \"downdog\"}, {\"label\": \"downdog\"}, {\"label\": \"downdog\"}, {\"label\": \"downdog\"}, {\"label\": \"downdog\"}, {\"label\": \"downdog\"}, {\"label\": \"downdog\"}, {\"label\": \"downdog\"}, {\"label\": \"downdog\"}, {\"label\": \"downdog\"}, {\"label\": \"downdog\"}, {\"label\": \"downdog\"}, {\"label\": \"downdog\"}, {\"label\": \"downdog\"}, {\"label\": \"downdog\"}, {\"label\": \"downdog\"}, {\"label\": \"downdog\"}, {\"label\": \"downdog\"}, {\"label\": \"downdog\"}, {\"label\": \"downdog\"}, {\"label\": \"downdog\"}, {\"label\": \"downdog\"}, {\"label\": \"downdog\"}, {\"label\": \"downdog\"}, {\"label\": \"downdog\"}, {\"label\": \"downdog\"}, {\"label\": \"downdog\"}, {\"label\": \"downdog\"}, {\"label\": \"downdog\"}, {\"label\": \"downdog\"}, {\"label\": \"downdog\"}, {\"label\": \"downdog\"}, {\"label\": \"downdog\"}, {\"label\": \"downdog\"}, {\"label\": \"downdog\"}, {\"label\": \"downdog\"}, {\"label\": \"downdog\"}, {\"label\": \"downdog\"}, {\"label\": \"downdog\"}, {\"label\": \"downdog\"}, {\"label\": \"downdog\"}, {\"label\": \"downdog\"}, {\"label\": \"downdog\"}, {\"label\": \"downdog\"}, {\"label\": \"downdog\"}, {\"label\": \"downdog\"}, {\"label\": \"downdog\"}, {\"label\": \"downdog\"}, {\"label\": \"downdog\"}, {\"label\": \"downdog\"}, {\"label\": \"downdog\"}, {\"label\": \"downdog\"}, {\"label\": \"downdog\"}, {\"label\": \"downdog\"}, {\"label\": \"downdog\"}, {\"label\": \"downdog\"}, {\"label\": \"downdog\"}, {\"label\": \"downdog\"}, {\"label\": \"downdog\"}, {\"label\": \"downdog\"}, {\"label\": \"downdog\"}, {\"label\": \"downdog\"}, {\"label\": \"downdog\"}, {\"label\": \"downdog\"}, {\"label\": \"downdog\"}, {\"label\": \"downdog\"}, {\"label\": \"downdog\"}, {\"label\": \"downdog\"}, {\"label\": \"downdog\"}, {\"label\": \"downdog\"}, {\"label\": \"downdog\"}, {\"label\": \"downdog\"}, {\"label\": \"downdog\"}, {\"label\": \"downdog\"}, {\"label\": \"downdog\"}, {\"label\": \"downdog\"}, {\"label\": \"downdog\"}, {\"label\": \"downdog\"}, {\"label\": \"downdog\"}, {\"label\": \"downdog\"}, {\"label\": \"downdog\"}, {\"label\": \"downdog\"}, {\"label\": \"downdog\"}, {\"label\": \"downdog\"}, {\"label\": \"downdog\"}, {\"label\": \"downdog\"}, {\"label\": \"downdog\"}, {\"label\": \"downdog\"}, {\"label\": \"downdog\"}, {\"label\": \"downdog\"}, {\"label\": \"downdog\"}, {\"label\": \"downdog\"}, {\"label\": \"downdog\"}, {\"label\": \"downdog\"}, {\"label\": \"downdog\"}, {\"label\": \"downdog\"}, {\"label\": \"downdog\"}, {\"label\": \"downdog\"}, {\"label\": \"downdog\"}, {\"label\": \"downdog\"}, {\"label\": \"downdog\"}, {\"label\": \"downdog\"}, {\"label\": \"downdog\"}, {\"label\": \"downdog\"}, {\"label\": \"downdog\"}, {\"label\": \"downdog\"}, {\"label\": \"downdog\"}, {\"label\": \"downdog\"}, {\"label\": \"downdog\"}, {\"label\": \"downdog\"}, {\"label\": \"downdog\"}, {\"label\": \"downdog\"}, {\"label\": \"downdog\"}, {\"label\": \"downdog\"}, {\"label\": \"downdog\"}, {\"label\": \"downdog\"}, {\"label\": \"downdog\"}, {\"label\": \"downdog\"}, {\"label\": \"downdog\"}, {\"label\": \"downdog\"}, {\"label\": \"downdog\"}, {\"label\": \"downdog\"}, {\"label\": \"downdog\"}, {\"label\": \"downdog\"}, {\"label\": \"downdog\"}, {\"label\": \"downdog\"}, {\"label\": \"downdog\"}, {\"label\": \"downdog\"}, {\"label\": \"downdog\"}, {\"label\": \"downdog\"}, {\"label\": \"downdog\"}, {\"label\": \"downdog\"}, {\"label\": \"downdog\"}, {\"label\": \"downdog\"}, {\"label\": \"downdog\"}, {\"label\": \"downdog\"}, {\"label\": \"downdog\"}, {\"label\": \"downdog\"}, {\"label\": \"downdog\"}, {\"label\": \"downdog\"}, {\"label\": \"downdog\"}, {\"label\": \"downdog\"}, {\"label\": \"downdog\"}, {\"label\": \"downdog\"}, {\"label\": \"downdog\"}, {\"label\": \"downdog\"}, {\"label\": \"downdog\"}, {\"label\": \"downdog\"}, {\"label\": \"downdog\"}, {\"label\": \"downdog\"}, {\"label\": \"downdog\"}, {\"label\": \"downdog\"}, {\"label\": \"downdog\"}, {\"label\": \"downdog\"}, {\"label\": \"downdog\"}, {\"label\": \"downdog\"}, {\"label\": \"downdog\"}, {\"label\": \"downdog\"}, {\"label\": \"downdog\"}, {\"label\": \"downdog\"}, {\"label\": \"downdog\"}, {\"label\": \"downdog\"}, {\"label\": \"downdog\"}, {\"label\": \"downdog\"}, {\"label\": \"downdog\"}, {\"label\": \"downdog\"}, {\"label\": \"downdog\"}, {\"label\": \"downdog\"}, {\"label\": \"downdog\"}, {\"label\": \"downdog\"}, {\"label\": \"downdog\"}, {\"label\": \"downdog\"}, {\"label\": \"downdog\"}, {\"label\": \"downdog\"}, {\"label\": \"downdog\"}, {\"label\": \"downdog\"}, {\"label\": \"tree\"}, {\"label\": \"tree\"}, {\"label\": \"tree\"}, {\"label\": \"tree\"}, {\"label\": \"tree\"}, {\"label\": \"tree\"}, {\"label\": \"tree\"}, {\"label\": \"tree\"}, {\"label\": \"tree\"}, {\"label\": \"tree\"}, {\"label\": \"tree\"}, {\"label\": \"tree\"}, {\"label\": \"tree\"}, {\"label\": \"tree\"}, {\"label\": \"tree\"}, {\"label\": \"tree\"}, {\"label\": \"tree\"}, {\"label\": \"tree\"}, {\"label\": \"tree\"}, {\"label\": \"tree\"}, {\"label\": \"tree\"}, {\"label\": \"tree\"}, {\"label\": \"tree\"}, {\"label\": \"tree\"}, {\"label\": \"tree\"}, {\"label\": \"tree\"}, {\"label\": \"tree\"}, {\"label\": \"tree\"}, {\"label\": \"tree\"}, {\"label\": \"tree\"}, {\"label\": \"tree\"}, {\"label\": \"tree\"}, {\"label\": \"tree\"}, {\"label\": \"tree\"}, {\"label\": \"tree\"}, {\"label\": \"tree\"}, {\"label\": \"tree\"}, {\"label\": \"tree\"}, {\"label\": \"tree\"}, {\"label\": \"tree\"}, {\"label\": \"tree\"}, {\"label\": \"tree\"}, {\"label\": \"tree\"}, {\"label\": \"tree\"}, {\"label\": \"tree\"}, {\"label\": \"tree\"}, {\"label\": \"tree\"}, {\"label\": \"tree\"}, {\"label\": \"tree\"}, {\"label\": \"tree\"}, {\"label\": \"tree\"}, {\"label\": \"tree\"}, {\"label\": \"tree\"}, {\"label\": \"tree\"}, {\"label\": \"tree\"}, {\"label\": \"tree\"}, {\"label\": \"tree\"}, {\"label\": \"tree\"}, {\"label\": \"tree\"}, {\"label\": \"tree\"}, {\"label\": \"tree\"}, {\"label\": \"tree\"}, {\"label\": \"tree\"}, {\"label\": \"tree\"}, {\"label\": \"tree\"}, {\"label\": \"tree\"}, {\"label\": \"tree\"}, {\"label\": \"tree\"}, {\"label\": \"tree\"}, {\"label\": \"tree\"}, {\"label\": \"tree\"}, {\"label\": \"tree\"}, {\"label\": \"tree\"}, {\"label\": \"tree\"}, {\"label\": \"tree\"}, {\"label\": \"tree\"}, {\"label\": \"tree\"}, {\"label\": \"tree\"}, {\"label\": \"tree\"}, {\"label\": \"tree\"}, {\"label\": \"tree\"}, {\"label\": \"tree\"}, {\"label\": \"tree\"}, {\"label\": \"tree\"}, {\"label\": \"tree\"}, {\"label\": \"tree\"}, {\"label\": \"tree\"}, {\"label\": \"tree\"}, {\"label\": \"tree\"}, {\"label\": \"tree\"}, {\"label\": \"tree\"}, {\"label\": \"tree\"}, {\"label\": \"tree\"}, {\"label\": \"tree\"}, {\"label\": \"tree\"}, {\"label\": \"tree\"}, {\"label\": \"tree\"}, {\"label\": \"tree\"}, {\"label\": \"tree\"}, {\"label\": \"tree\"}, {\"label\": \"tree\"}, {\"label\": \"tree\"}, {\"label\": \"tree\"}, {\"label\": \"tree\"}, {\"label\": \"tree\"}, {\"label\": \"tree\"}, {\"label\": \"tree\"}, {\"label\": \"tree\"}, {\"label\": \"tree\"}, {\"label\": \"tree\"}, {\"label\": \"tree\"}, {\"label\": \"tree\"}, {\"label\": \"tree\"}, {\"label\": \"tree\"}, {\"label\": \"tree\"}, {\"label\": \"tree\"}, {\"label\": \"tree\"}, {\"label\": \"tree\"}, {\"label\": \"tree\"}, {\"label\": \"tree\"}, {\"label\": \"tree\"}, {\"label\": \"tree\"}, {\"label\": \"tree\"}, {\"label\": \"tree\"}, {\"label\": \"tree\"}, {\"label\": \"tree\"}, {\"label\": \"tree\"}, {\"label\": \"tree\"}, {\"label\": \"tree\"}, {\"label\": \"tree\"}, {\"label\": \"tree\"}, {\"label\": \"tree\"}, {\"label\": \"tree\"}, {\"label\": \"tree\"}, {\"label\": \"tree\"}, {\"label\": \"tree\"}, {\"label\": \"warrior2\"}, {\"label\": \"warrior2\"}, {\"label\": \"warrior2\"}, {\"label\": \"warrior2\"}, {\"label\": \"warrior2\"}, {\"label\": \"warrior2\"}, {\"label\": \"warrior2\"}, {\"label\": \"warrior2\"}, {\"label\": \"warrior2\"}, {\"label\": \"warrior2\"}, {\"label\": \"warrior2\"}, {\"label\": \"warrior2\"}, {\"label\": \"warrior2\"}, {\"label\": \"warrior2\"}, {\"label\": \"warrior2\"}, {\"label\": \"warrior2\"}, {\"label\": \"warrior2\"}, {\"label\": \"warrior2\"}, {\"label\": \"warrior2\"}, {\"label\": \"warrior2\"}, {\"label\": \"warrior2\"}, {\"label\": \"warrior2\"}, {\"label\": \"warrior2\"}, {\"label\": \"warrior2\"}, {\"label\": \"warrior2\"}, {\"label\": \"warrior2\"}, {\"label\": \"warrior2\"}, {\"label\": \"warrior2\"}, {\"label\": \"warrior2\"}, {\"label\": \"warrior2\"}, {\"label\": \"warrior2\"}, {\"label\": \"warrior2\"}, {\"label\": \"warrior2\"}, {\"label\": \"warrior2\"}, {\"label\": \"warrior2\"}, {\"label\": \"warrior2\"}, {\"label\": \"warrior2\"}, {\"label\": \"warrior2\"}, {\"label\": \"warrior2\"}, {\"label\": \"warrior2\"}, {\"label\": \"warrior2\"}, {\"label\": \"warrior2\"}, {\"label\": \"warrior2\"}, {\"label\": \"warrior2\"}, {\"label\": \"warrior2\"}, {\"label\": \"warrior2\"}, {\"label\": \"warrior2\"}, {\"label\": \"warrior2\"}, {\"label\": \"warrior2\"}, {\"label\": \"warrior2\"}, {\"label\": \"warrior2\"}, {\"label\": \"warrior2\"}, {\"label\": \"warrior2\"}, {\"label\": \"warrior2\"}, {\"label\": \"warrior2\"}, {\"label\": \"warrior2\"}, {\"label\": \"warrior2\"}, {\"label\": \"warrior2\"}, {\"label\": \"warrior2\"}, {\"label\": \"warrior2\"}, {\"label\": \"warrior2\"}, {\"label\": \"warrior2\"}, {\"label\": \"warrior2\"}, {\"label\": \"warrior2\"}, {\"label\": \"warrior2\"}, {\"label\": \"warrior2\"}, {\"label\": \"warrior2\"}, {\"label\": \"warrior2\"}, {\"label\": \"warrior2\"}, {\"label\": \"warrior2\"}, {\"label\": \"warrior2\"}, {\"label\": \"warrior2\"}, {\"label\": \"warrior2\"}, {\"label\": \"warrior2\"}, {\"label\": \"warrior2\"}, {\"label\": \"warrior2\"}, {\"label\": \"warrior2\"}, {\"label\": \"warrior2\"}, {\"label\": \"warrior2\"}, {\"label\": \"warrior2\"}, {\"label\": \"warrior2\"}, {\"label\": \"warrior2\"}, {\"label\": \"warrior2\"}, {\"label\": \"warrior2\"}, {\"label\": \"warrior2\"}, {\"label\": \"warrior2\"}, {\"label\": \"warrior2\"}, {\"label\": \"warrior2\"}, {\"label\": \"warrior2\"}, {\"label\": \"warrior2\"}, {\"label\": \"warrior2\"}, {\"label\": \"warrior2\"}, {\"label\": \"warrior2\"}, {\"label\": \"warrior2\"}, {\"label\": \"warrior2\"}, {\"label\": \"warrior2\"}, {\"label\": \"warrior2\"}, {\"label\": \"warrior2\"}, {\"label\": \"warrior2\"}, {\"label\": \"warrior2\"}, {\"label\": \"warrior2\"}, {\"label\": \"warrior2\"}, {\"label\": \"warrior2\"}, {\"label\": \"warrior2\"}, {\"label\": \"warrior2\"}, {\"label\": \"warrior2\"}, {\"label\": \"warrior2\"}, {\"label\": \"warrior2\"}, {\"label\": \"warrior2\"}, {\"label\": \"warrior2\"}, {\"label\": \"warrior2\"}, {\"label\": \"warrior2\"}, {\"label\": \"warrior2\"}, {\"label\": \"warrior2\"}, {\"label\": \"warrior2\"}, {\"label\": \"warrior2\"}, {\"label\": \"warrior2\"}, {\"label\": \"warrior2\"}, {\"label\": \"warrior2\"}, {\"label\": \"warrior2\"}, {\"label\": \"warrior2\"}, {\"label\": \"warrior2\"}, {\"label\": \"warrior2\"}, {\"label\": \"warrior2\"}, {\"label\": \"warrior2\"}, {\"label\": \"warrior2\"}, {\"label\": \"warrior2\"}, {\"label\": \"warrior2\"}, {\"label\": \"warrior2\"}, {\"label\": \"warrior2\"}, {\"label\": \"warrior2\"}, {\"label\": \"warrior2\"}, {\"label\": \"warrior2\"}, {\"label\": \"warrior2\"}, {\"label\": \"warrior2\"}, {\"label\": \"warrior2\"}, {\"label\": \"warrior2\"}, {\"label\": \"warrior2\"}, {\"label\": \"warrior2\"}, {\"label\": \"warrior2\"}, {\"label\": \"warrior2\"}, {\"label\": \"warrior2\"}, {\"label\": \"warrior2\"}, {\"label\": \"warrior2\"}, {\"label\": \"warrior2\"}, {\"label\": \"warrior2\"}, {\"label\": \"warrior2\"}, {\"label\": \"warrior2\"}, {\"label\": \"warrior2\"}, {\"label\": \"warrior2\"}, {\"label\": \"warrior2\"}, {\"label\": \"warrior2\"}, {\"label\": \"warrior2\"}, {\"label\": \"warrior2\"}, {\"label\": \"warrior2\"}, {\"label\": \"warrior2\"}, {\"label\": \"warrior2\"}, {\"label\": \"warrior2\"}, {\"label\": \"warrior2\"}, {\"label\": \"warrior2\"}, {\"label\": \"warrior2\"}, {\"label\": \"warrior2\"}, {\"label\": \"warrior2\"}, {\"label\": \"warrior2\"}, {\"label\": \"warrior2\"}, {\"label\": \"warrior2\"}, {\"label\": \"warrior2\"}, {\"label\": \"warrior2\"}, {\"label\": \"warrior2\"}, {\"label\": \"warrior2\"}, {\"label\": \"warrior2\"}, {\"label\": \"warrior2\"}, {\"label\": \"warrior2\"}, {\"label\": \"warrior2\"}, {\"label\": \"warrior2\"}, {\"label\": \"warrior2\"}, {\"label\": \"warrior2\"}, {\"label\": \"warrior2\"}, {\"label\": \"warrior2\"}, {\"label\": \"warrior2\"}, {\"label\": \"warrior2\"}, {\"label\": \"warrior2\"}, {\"label\": \"warrior2\"}, {\"label\": \"warrior2\"}, {\"label\": \"warrior2\"}, {\"label\": \"warrior2\"}, {\"label\": \"warrior2\"}, {\"label\": \"warrior2\"}, {\"label\": \"warrior2\"}, {\"label\": \"warrior2\"}, {\"label\": \"warrior2\"}, {\"label\": \"warrior2\"}, {\"label\": \"warrior2\"}, {\"label\": \"warrior2\"}, {\"label\": \"warrior2\"}, {\"label\": \"warrior2\"}, {\"label\": \"warrior2\"}, {\"label\": \"warrior2\"}, {\"label\": \"warrior2\"}, {\"label\": \"warrior2\"}, {\"label\": \"warrior2\"}, {\"label\": \"warrior2\"}, {\"label\": \"warrior2\"}, {\"label\": \"warrior2\"}, {\"label\": \"warrior2\"}, {\"label\": \"warrior2\"}, {\"label\": \"warrior2\"}, {\"label\": \"warrior2\"}, {\"label\": \"warrior2\"}, {\"label\": \"warrior2\"}, {\"label\": \"warrior2\"}, {\"label\": \"warrior2\"}, {\"label\": \"warrior2\"}, {\"label\": \"warrior2\"}, {\"label\": \"warrior2\"}, {\"label\": \"warrior2\"}, {\"label\": \"warrior2\"}, {\"label\": \"warrior2\"}, {\"label\": \"warrior2\"}, {\"label\": \"warrior2\"}, {\"label\": \"warrior2\"}, {\"label\": \"warrior2\"}, {\"label\": \"warrior2\"}, {\"label\": \"warrior2\"}, {\"label\": \"warrior2\"}, {\"label\": \"warrior2\"}, {\"label\": \"warrior2\"}, {\"label\": \"warrior2\"}, {\"label\": \"warrior2\"}, {\"label\": \"warrior2\"}, {\"label\": \"warrior2\"}, {\"label\": \"warrior2\"}, {\"label\": \"warrior2\"}, {\"label\": \"warrior2\"}, {\"label\": \"warrior2\"}, {\"label\": \"warrior2\"}, {\"label\": \"warrior2\"}, {\"label\": \"warrior2\"}, {\"label\": \"goddess\"}, {\"label\": \"goddess\"}, {\"label\": \"goddess\"}, {\"label\": \"goddess\"}, {\"label\": \"goddess\"}, {\"label\": \"goddess\"}, {\"label\": \"goddess\"}, {\"label\": \"goddess\"}, {\"label\": \"goddess\"}, {\"label\": \"goddess\"}, {\"label\": \"goddess\"}, {\"label\": \"goddess\"}, {\"label\": \"goddess\"}, {\"label\": \"goddess\"}, {\"label\": \"goddess\"}, {\"label\": \"goddess\"}, {\"label\": \"goddess\"}, {\"label\": \"goddess\"}, {\"label\": \"goddess\"}, {\"label\": \"goddess\"}, {\"label\": \"goddess\"}, {\"label\": \"goddess\"}, {\"label\": \"goddess\"}, {\"label\": \"goddess\"}, {\"label\": \"goddess\"}, {\"label\": \"goddess\"}, {\"label\": \"goddess\"}, {\"label\": \"goddess\"}, {\"label\": \"goddess\"}, {\"label\": \"goddess\"}, {\"label\": \"goddess\"}, {\"label\": \"goddess\"}, {\"label\": \"goddess\"}, {\"label\": \"goddess\"}, {\"label\": \"goddess\"}, {\"label\": \"goddess\"}, {\"label\": \"goddess\"}, {\"label\": \"goddess\"}, {\"label\": \"goddess\"}, {\"label\": \"goddess\"}, {\"label\": \"goddess\"}, {\"label\": \"goddess\"}, {\"label\": \"goddess\"}, {\"label\": \"goddess\"}, {\"label\": \"goddess\"}, {\"label\": \"goddess\"}, {\"label\": \"goddess\"}, {\"label\": \"goddess\"}, {\"label\": \"goddess\"}, {\"label\": \"goddess\"}, {\"label\": \"goddess\"}, {\"label\": \"goddess\"}, {\"label\": \"goddess\"}, {\"label\": \"goddess\"}, {\"label\": \"goddess\"}, {\"label\": \"goddess\"}, {\"label\": \"goddess\"}, {\"label\": \"goddess\"}, {\"label\": \"goddess\"}, {\"label\": \"goddess\"}, {\"label\": \"goddess\"}, {\"label\": \"goddess\"}, {\"label\": \"goddess\"}, {\"label\": \"goddess\"}, {\"label\": \"goddess\"}, {\"label\": \"goddess\"}, {\"label\": \"goddess\"}, {\"label\": \"goddess\"}, {\"label\": \"goddess\"}, {\"label\": \"goddess\"}, {\"label\": \"goddess\"}, {\"label\": \"goddess\"}, {\"label\": \"goddess\"}, {\"label\": \"goddess\"}, {\"label\": \"goddess\"}, {\"label\": \"goddess\"}, {\"label\": \"goddess\"}, {\"label\": \"goddess\"}, {\"label\": \"goddess\"}, {\"label\": \"goddess\"}, {\"label\": \"goddess\"}, {\"label\": \"goddess\"}, {\"label\": \"goddess\"}, {\"label\": \"goddess\"}, {\"label\": \"goddess\"}, {\"label\": \"goddess\"}, {\"label\": \"goddess\"}, {\"label\": \"goddess\"}, {\"label\": \"goddess\"}, {\"label\": \"goddess\"}, {\"label\": \"goddess\"}, {\"label\": \"goddess\"}, {\"label\": \"goddess\"}, {\"label\": \"goddess\"}, {\"label\": \"goddess\"}, {\"label\": \"goddess\"}, {\"label\": \"goddess\"}, {\"label\": \"goddess\"}, {\"label\": \"goddess\"}, {\"label\": \"goddess\"}, {\"label\": \"goddess\"}, {\"label\": \"goddess\"}, {\"label\": \"goddess\"}, {\"label\": \"goddess\"}, {\"label\": \"goddess\"}, {\"label\": \"goddess\"}, {\"label\": \"goddess\"}, {\"label\": \"goddess\"}, {\"label\": \"goddess\"}, {\"label\": \"goddess\"}, {\"label\": \"goddess\"}, {\"label\": \"goddess\"}, {\"label\": \"goddess\"}, {\"label\": \"goddess\"}, {\"label\": \"goddess\"}, {\"label\": \"goddess\"}, {\"label\": \"goddess\"}, {\"label\": \"goddess\"}, {\"label\": \"goddess\"}, {\"label\": \"goddess\"}, {\"label\": \"goddess\"}, {\"label\": \"goddess\"}, {\"label\": \"goddess\"}, {\"label\": \"goddess\"}, {\"label\": \"goddess\"}, {\"label\": \"goddess\"}, {\"label\": \"goddess\"}, {\"label\": \"goddess\"}, {\"label\": \"goddess\"}, {\"label\": \"goddess\"}, {\"label\": \"goddess\"}, {\"label\": \"goddess\"}, {\"label\": \"goddess\"}, {\"label\": \"goddess\"}, {\"label\": \"goddess\"}, {\"label\": \"goddess\"}, {\"label\": \"goddess\"}, {\"label\": \"goddess\"}, {\"label\": \"goddess\"}, {\"label\": \"goddess\"}, {\"label\": \"goddess\"}, {\"label\": \"goddess\"}, {\"label\": \"goddess\"}, {\"label\": \"goddess\"}, {\"label\": \"goddess\"}, {\"label\": \"goddess\"}, {\"label\": \"goddess\"}, {\"label\": \"goddess\"}, {\"label\": \"goddess\"}, {\"label\": \"goddess\"}, {\"label\": \"goddess\"}, {\"label\": \"goddess\"}, {\"label\": \"goddess\"}, {\"label\": \"goddess\"}, {\"label\": \"goddess\"}, {\"label\": \"goddess\"}, {\"label\": \"goddess\"}, {\"label\": \"goddess\"}, {\"label\": \"goddess\"}, {\"label\": \"goddess\"}, {\"label\": \"goddess\"}, {\"label\": \"goddess\"}, {\"label\": \"goddess\"}, {\"label\": \"goddess\"}, {\"label\": \"plank\"}, {\"label\": \"plank\"}, {\"label\": \"plank\"}, {\"label\": \"plank\"}, {\"label\": \"plank\"}, {\"label\": \"plank\"}, {\"label\": \"plank\"}, {\"label\": \"plank\"}, {\"label\": \"plank\"}, {\"label\": \"plank\"}, {\"label\": \"plank\"}, {\"label\": \"plank\"}, {\"label\": \"plank\"}, {\"label\": \"plank\"}, {\"label\": \"plank\"}, {\"label\": \"plank\"}, {\"label\": \"plank\"}, {\"label\": \"plank\"}, {\"label\": \"plank\"}, {\"label\": \"plank\"}, {\"label\": \"plank\"}, {\"label\": \"plank\"}, {\"label\": \"plank\"}, {\"label\": \"plank\"}, {\"label\": \"plank\"}, {\"label\": \"plank\"}, {\"label\": \"plank\"}, {\"label\": \"plank\"}, {\"label\": \"plank\"}, {\"label\": \"plank\"}, {\"label\": \"plank\"}, {\"label\": \"plank\"}, {\"label\": \"plank\"}, {\"label\": \"plank\"}, {\"label\": \"plank\"}, {\"label\": \"plank\"}, {\"label\": \"plank\"}, {\"label\": \"plank\"}, {\"label\": \"plank\"}, {\"label\": \"plank\"}, {\"label\": \"plank\"}, {\"label\": \"plank\"}, {\"label\": \"plank\"}, {\"label\": \"plank\"}, {\"label\": \"plank\"}, {\"label\": \"plank\"}, {\"label\": \"plank\"}, {\"label\": \"plank\"}, {\"label\": \"plank\"}, {\"label\": \"plank\"}, {\"label\": \"plank\"}, {\"label\": \"plank\"}, {\"label\": \"plank\"}, {\"label\": \"plank\"}, {\"label\": \"plank\"}, {\"label\": \"plank\"}, {\"label\": \"plank\"}, {\"label\": \"plank\"}, {\"label\": \"plank\"}, {\"label\": \"plank\"}, {\"label\": \"plank\"}, {\"label\": \"plank\"}, {\"label\": \"plank\"}, {\"label\": \"plank\"}, {\"label\": \"plank\"}, {\"label\": \"plank\"}, {\"label\": \"plank\"}, {\"label\": \"plank\"}, {\"label\": \"plank\"}, {\"label\": \"plank\"}, {\"label\": \"plank\"}, {\"label\": \"plank\"}, {\"label\": \"plank\"}, {\"label\": \"plank\"}, {\"label\": \"plank\"}, {\"label\": \"plank\"}, {\"label\": \"plank\"}, {\"label\": \"plank\"}, {\"label\": \"plank\"}, {\"label\": \"plank\"}, {\"label\": \"plank\"}, {\"label\": \"plank\"}, {\"label\": \"plank\"}, {\"label\": \"plank\"}, {\"label\": \"plank\"}, {\"label\": \"plank\"}, {\"label\": \"plank\"}, {\"label\": \"plank\"}, {\"label\": \"plank\"}, {\"label\": \"plank\"}, {\"label\": \"plank\"}, {\"label\": \"plank\"}, {\"label\": \"plank\"}, {\"label\": \"plank\"}, {\"label\": \"plank\"}, {\"label\": \"plank\"}, {\"label\": \"plank\"}, {\"label\": \"plank\"}, {\"label\": \"plank\"}, {\"label\": \"plank\"}, {\"label\": \"plank\"}, {\"label\": \"plank\"}, {\"label\": \"plank\"}, {\"label\": \"plank\"}, {\"label\": \"plank\"}, {\"label\": \"plank\"}, {\"label\": \"plank\"}, {\"label\": \"plank\"}, {\"label\": \"plank\"}, {\"label\": \"plank\"}, {\"label\": \"plank\"}, {\"label\": \"plank\"}, {\"label\": \"plank\"}, {\"label\": \"plank\"}, {\"label\": \"plank\"}, {\"label\": \"plank\"}, {\"label\": \"plank\"}, {\"label\": \"plank\"}, {\"label\": \"plank\"}, {\"label\": \"plank\"}, {\"label\": \"plank\"}, {\"label\": \"plank\"}, {\"label\": \"plank\"}, {\"label\": \"plank\"}, {\"label\": \"plank\"}, {\"label\": \"plank\"}, {\"label\": \"plank\"}, {\"label\": \"plank\"}, {\"label\": \"plank\"}, {\"label\": \"plank\"}, {\"label\": \"plank\"}, {\"label\": \"plank\"}, {\"label\": \"plank\"}, {\"label\": \"plank\"}, {\"label\": \"plank\"}, {\"label\": \"plank\"}, {\"label\": \"plank\"}, {\"label\": \"plank\"}, {\"label\": \"plank\"}, {\"label\": \"plank\"}, {\"label\": \"plank\"}, {\"label\": \"plank\"}, {\"label\": \"plank\"}, {\"label\": \"plank\"}, {\"label\": \"plank\"}, {\"label\": \"plank\"}, {\"label\": \"plank\"}, {\"label\": \"plank\"}, {\"label\": \"plank\"}, {\"label\": \"plank\"}, {\"label\": \"plank\"}, {\"label\": \"plank\"}, {\"label\": \"plank\"}, {\"label\": \"plank\"}, {\"label\": \"plank\"}, {\"label\": \"plank\"}, {\"label\": \"plank\"}, {\"label\": \"plank\"}, {\"label\": \"plank\"}, {\"label\": \"plank\"}, {\"label\": \"plank\"}, {\"label\": \"plank\"}, {\"label\": \"plank\"}, {\"label\": \"plank\"}, {\"label\": \"plank\"}, {\"label\": \"plank\"}, {\"label\": \"plank\"}, {\"label\": \"plank\"}, {\"label\": \"plank\"}, {\"label\": \"plank\"}, {\"label\": \"plank\"}, {\"label\": \"plank\"}, {\"label\": \"plank\"}, {\"label\": \"plank\"}, {\"label\": \"plank\"}, {\"label\": \"plank\"}, {\"label\": \"plank\"}, {\"label\": \"plank\"}, {\"label\": \"plank\"}, {\"label\": \"plank\"}, {\"label\": \"plank\"}, {\"label\": \"plank\"}, {\"label\": \"plank\"}, {\"label\": \"plank\"}, {\"label\": \"plank\"}, {\"label\": \"plank\"}, {\"label\": \"plank\"}, {\"label\": \"plank\"}, {\"label\": \"plank\"}, {\"label\": \"plank\"}, {\"label\": \"plank\"}, {\"label\": \"plank\"}, {\"label\": \"plank\"}, {\"label\": \"plank\"}, {\"label\": \"plank\"}, {\"label\": \"plank\"}, {\"label\": \"plank\"}, {\"label\": \"plank\"}, {\"label\": \"plank\"}, {\"label\": \"plank\"}, {\"label\": \"plank\"}, {\"label\": \"plank\"}, {\"label\": \"plank\"}, {\"label\": \"plank\"}, {\"label\": \"plank\"}, {\"label\": \"plank\"}, {\"label\": \"plank\"}, {\"label\": \"plank\"}, {\"label\": \"plank\"}, {\"label\": \"plank\"}, {\"label\": \"plank\"}, {\"label\": \"plank\"}, {\"label\": \"plank\"}, {\"label\": \"plank\"}, {\"label\": \"plank\"}, {\"label\": \"plank\"}, {\"label\": \"plank\"}, {\"label\": \"plank\"}, {\"label\": \"plank\"}, {\"label\": \"plank\"}, {\"label\": \"plank\"}, {\"label\": \"plank\"}, {\"label\": \"plank\"}, {\"label\": \"plank\"}, {\"label\": \"plank\"}]}}, {\"mode\": \"vega-lite\"});\n",
       "</script>"
      ],
      "text/plain": [
       "alt.Chart(...)"
      ]
     },
     "execution_count": 6,
     "metadata": {},
     "output_type": "execute_result"
    }
   ],
   "source": [
    "label_df = pd.DataFrame()\n",
    "label_df['label'] = list(map(lambda x: labelencoder.inverse_transform([x])[0], data['target']))\n",
    "\n",
    "bars = alt.Chart(label_df).mark_bar(size=50).encode(\n",
    "    x=alt.X('label', axis=alt.Axis(title='Pose')),\n",
    "    y=alt.Y(\"count()\", axis=alt.Axis(title='Count')),\n",
    "    tooltip=[alt.Tooltip('count()', title='Count'), 'label'],\n",
    "    color='label'\n",
    ")\n",
    "\n",
    "(bars).interactive().properties(\n",
    "    height=300, \n",
    "    width=700,\n",
    "    title = \"Number of data in each pose\",\n",
    ")\n"
   ]
  },
  {
   "cell_type": "markdown",
   "metadata": {},
   "source": [
    "### II. Yolox Model"
   ]
  },
  {
   "cell_type": "code",
   "execution_count": 2,
   "metadata": {},
   "outputs": [],
   "source": [
    "# YOLOX Configuration\n",
    "class dotdict(dict):\n",
    "    \"\"\"\n",
    "    Dotdict is just a dictionary whose elements can be referenced with a dot operation.\n",
    "    I.e. dotdict['x'] == dotdict.x\n",
    "\n",
    "    This is useful because the original YOLOX used a custom class to hold a lot of extra configuration that\n",
    "    we do not need.\n",
    "    \"\"\"\n",
    "    # def __getattr__(self, x):\n",
    "    #     return self[x]\n",
    "\n",
    "\n",
    "opt = dotdict()\n",
    "# All images should be scaled to this input size before passing through YOLOX.\n",
    "# Any image (of any size) can be scaled using the function `yolox.data_augment.preproc`\n",
    "# I don't recommend changing this. This is just fine and loads pretty quickly, even on CPU.\n",
    "opt.input_size = (640, 640)\n",
    "opt.random_size = (10, 20)  # None; multi-size train: from 448(14*32) to 832(26*32), set None to disable it\n",
    "opt.test_size = (640, 640)\n",
    "opt.rgb_means = [0.485, 0.456, 0.406]\n",
    "opt.std = [0.229, 0.224, 0.225]\n",
    "opt.device = torch.device('cuda:0' if torch.cuda.is_available() else 'cpu')\n",
    "opt.backbone = \"CSPDarknet-nano\"\n",
    "opt.depth_wise = True\n",
    "opt.use_amp = False  # True, Automatic mixed precision"
   ]
  },
  {
   "cell_type": "code",
   "execution_count": 3,
   "metadata": {},
   "outputs": [
    {
     "name": "stderr",
     "output_type": "stream",
     "text": [
      "Premature end of JPEG file\n",
      "Corrupt JPEG data: premature end of data segment\n"
     ]
    }
   ],
   "source": [
    "path = \"dataset/train/\"\n",
    "# Creating Dataset\n",
    "target = []\n",
    "count = 0\n",
    "\n",
    "images_arrays = []\n",
    "target = []\n",
    "\n",
    "for subdir, dirs, files in os.walk(path):\n",
    "    for img in files:\n",
    "        temp = []\n",
    "        img = os.path.join(subdir, img)\n",
    "        img = cv2.imread(img)\n",
    "\n",
    "        img, r = preproc(img, opt.test_size, opt.rgb_means, opt.std)\n",
    "        images_arrays.append(img)\n",
    "        target.append(subdir.replace(path, ''))\n",
    "\n",
    "\n",
    "inp_imgs = np.zeros([len(images_arrays), 3, opt.test_size[0], opt.test_size[1]], dtype=np.float32)\n",
    "for b_i, image in enumerate(images_arrays):\n",
    "    inp_imgs[b_i] = image\n",
    "\n",
    "\n"
   ]
  },
  {
   "cell_type": "code",
   "execution_count": null,
   "metadata": {
    "pycharm": {
     "name": "#%%\n"
    }
   },
   "outputs": [],
   "source": []
  },
  {
   "cell_type": "code",
   "execution_count": 4,
   "metadata": {},
   "outputs": [
    {
     "name": "stdout",
     "output_type": "stream",
     "text": [
      "[2 0 3 ... 0 1 2]\n"
     ]
    }
   ],
   "source": [
    "# Label Encoding for target\n",
    "labelencoder = LabelEncoder()\n",
    "target = labelencoder.fit_transform(target)\n",
    "\n",
    "# Shuffle them, otherwise our training gets all screwy\n",
    "inp_imgs, target = shuffle(inp_imgs, target)\n",
    "\n",
    "print(target)"
   ]
  },
  {
   "cell_type": "code",
   "execution_count": null,
   "metadata": {
    "pycharm": {
     "name": "#%%\n"
    }
   },
   "outputs": [],
   "source": []
  },
  {
   "cell_type": "code",
   "execution_count": 5,
   "metadata": {},
   "outputs": [
    {
     "name": "stderr",
     "output_type": "stream",
     "text": [
      "Clipping input data to the valid range for imshow with RGB data ([0..1] for floats or [0..255] for integers).\n"
     ]
    },
    {
     "data": {
      "image/png": "[encoded data removed]",
      "text/plain": [
       "<Figure size 432x288 with 1 Axes>"
      ]
     },
     "metadata": {
      "needs_background": "light"
     },
     "output_type": "display_data"
    },
    {
     "name": "stdout",
     "output_type": "stream",
     "text": [
      "(3, 640, 640)\n"
     ]
    }
   ],
   "source": [
    "def imshow(img):\n",
    "    plt.imshow(np.transpose(img, (1, 2, 0)))\n",
    "    plt.show()\n",
    "\n",
    "imshow(images_arrays[0])\n",
    "print(images_arrays[0].shape)"
   ]
  },
  {
   "cell_type": "markdown",
   "metadata": {},
   "source": [
    "## 2. Define a baseline model and your model"
   ]
  },
  {
   "cell_type": "markdown",
   "metadata": {},
   "source": [
    "### I. Baseline Model"
   ]
  },
  {
   "cell_type": "code",
   "execution_count": 11,
   "metadata": {},
   "outputs": [],
   "source": [
    "# Defining baseline model\n",
    "X,Y = data.iloc[:,:132],data['target']\n",
    "baseline_model = SVC(kernel = 'poly')"
   ]
  },
  {
   "cell_type": "markdown",
   "metadata": {},
   "source": [
    "### II. YOLOX Model"
   ]
  },
  {
   "cell_type": "code",
   "execution_count": 6,
   "metadata": {},
   "outputs": [
    {
     "name": "stdout",
     "output_type": "stream",
     "text": [
      "==>> loaded pretrained_models/yolox-nano.pth, epoch 294\n"
     ]
    }
   ],
   "source": [
    "# Load YOLOX (Including weights pretrained on COCO)\n",
    "\n",
    "# The head (i.e. the connection between the YOLOX backbone and neck to the rest of the model) is by default just an IdentityModule.\n",
    "# This head should be exchanged with some torch module that performs the rest of the function (in this case classification)\n",
    "# The head module should be a torch module expecting an input that is a list of 3 tensors of sizes:\n",
    "#        [torch.Size([BATCH_SIZE, 64, 80, 80]), torch.Size([BATCH_SIZE, 128, 40, 40]), torch.Size([BATCH_SIZE, 256, 20, 20])]\n",
    "# Note: These sizes may change if the `opt.input_size` or `opt.test_size` are changed.\n",
    "# Each of these inputs is a different output of the YOLOX neck and represents the features learned at various scales.\n",
    "\n",
    "# The YOLOX model expects a single tensor input of size: [BATCH_SIZE, 3, opt.test_size[0], opt.test_size[1]]\n",
    "# BATCHSIZE is the Batch size\n",
    "# 3 is the number of color channels (the YOLOX is pretrained on 3 channels. Even if the image is grayscale, convert it to RGB\n",
    "# opt.test_size[0] is the number of horizontal pixels in the input\n",
    "# opt.test_size[1] is the number of vertical pixels in the input\n",
    "\n",
    "class ClassificationHead(nn.Module):\n",
    "    def __init__(self, input_sizes:List[int], input_channels:List[int], num_classes:int, hidden_features:int = 128, dropout=.5):\n",
    "        super(ClassificationHead, self).__init__()\n",
    "        self.fc0a = nn.Linear(input_channels[0]*input_sizes[0]**2,hidden_features)\n",
    "        self.fc0b = nn.Linear(input_channels[1]*input_sizes[1]**2,hidden_features)\n",
    "        self.fc0c = nn.Linear(input_channels[2]*input_sizes[2]**2,hidden_features)\n",
    "        # Concatenate the three outputs into one linear layer\n",
    "        self.fc1 = nn.Linear(len(input_sizes) * hidden_features, hidden_features)\n",
    "        self.dropout1 = nn.Dropout(dropout)\n",
    "        self.fc2 = nn.Linear(hidden_features, hidden_features)\n",
    "        self.dropout2 = nn.Dropout(dropout)\n",
    "        self.fc3 = nn.Linear(hidden_features, num_classes)\n",
    "\n",
    "    def forward(self,x):\n",
    "        a = F.relu(self.fc0a(torch.flatten(x[0],1)))\n",
    "        b = F.relu(self.fc0b(torch.flatten(x[1],1)))\n",
    "        c = F.relu(self.fc0c(torch.flatten(x[2],1)))\n",
    "        x = torch.cat([a,b,c], dim=1)\n",
    "        x = self.dropout1(F.relu(self.fc1(x)))\n",
    "        x = self.dropout2(F.relu(self.fc2(x)))\n",
    "        # x = F.softmax(self.fc3(x), dim=1)\n",
    "        x = self.fc3(x)\n",
    "        return x\n",
    "\n",
    "    def init_weights(self):\n",
    "        for m in self.modules():\n",
    "            if isinstance(m, nn.BatchNorm2d):\n",
    "                m.eps = 1e-3\n",
    "                m.momentum = 0.03\n",
    "\n",
    "def generate_model(opt, hidden_features=128, dropout=0.5, freeze_layers=True):\n",
    "    return get_model(opt,\n",
    "                     head=ClassificationHead([80,40,20], [64,128,256], 5, hidden_features=hidden_features, dropout=dropout),\n",
    "                     freeze_layers=freeze_layers)\n",
    "\n",
    "\n",
    "model = generate_model(opt)\n",
    "model.to(opt.device)\n",
    "\n",
    "# Check if frozen\n",
    "assert not any(p.requires_grad for p in model.backbone.parameters())"
   ]
  },
  {
   "cell_type": "markdown",
   "metadata": {
    "tags": []
   },
   "source": [
    "## 3. Run a training loop on a training set with both models"
   ]
  },
  {
   "cell_type": "markdown",
   "metadata": {},
   "source": [
    "### I. Baseline Model"
   ]
  },
  {
   "cell_type": "code",
   "execution_count": 13,
   "metadata": {},
   "outputs": [
    {
     "data": {
      "text/plain": [
       "SVC(kernel='poly')"
      ]
     },
     "execution_count": 13,
     "metadata": {},
     "output_type": "execute_result"
    }
   ],
   "source": [
    "baseline_model.fit(X,Y)"
   ]
  },
  {
   "cell_type": "markdown",
   "metadata": {},
   "source": [
    "### II. YOLOX Model"
   ]
  },
  {
   "cell_type": "code",
   "execution_count": 7,
   "metadata": {},
   "outputs": [
    {
     "name": "stdout",
     "output_type": "stream",
     "text": [
      "torch.Size([10, 5])\n"
     ]
    }
   ],
   "source": [
    "# Run inference as a test to make sure network runs (i.e. all tensors are the right shape)\n",
    "# Use only the first 10 images, for speed's sake\n",
    "model = model.to(opt.device)\n",
    "with torch.no_grad():\n",
    "    yolo_outputs = model(torch.as_tensor(inp_imgs[:10]).to(opt.device))\n",
    "    # print(yolo_outputs)\n",
    "    print(yolo_outputs.shape)\n"
   ]
  },
  {
   "cell_type": "code",
   "execution_count": 8,
   "metadata": {},
   "outputs": [],
   "source": [
    "    \n",
    "# Take this pre-generated model off the GPU so we have space\n",
    "try:\n",
    "    del yolo_outputs\n",
    "except: pass\n",
    "try:\n",
    "    del model\n",
    "except: pass\n",
    "try:\n",
    "    del gs\n",
    "except: pass\n",
    "try:\n",
    "    del net\n",
    "except: pass\n",
    "import gc\n",
    "for obj in gc.get_objects():\n",
    "    try:\n",
    "        if torch.is_tensor(obj) or (hasattr(obj, 'data') and torch.is_tensor(obj.data)):\n",
    "            print(type(obj), obj.size())\n",
    "            print('cuda', obj.is_cuda)\n",
    "    except:\n",
    "        pass\n",
    "gc.collect()\n",
    "torch.cuda.empty_cache()"
   ]
  },
  {
   "cell_type": "code",
   "execution_count": null,
   "metadata": {
    "pycharm": {
     "is_executing": true
    },
    "tags": []
   },
   "outputs": [
    {
     "name": "stdout",
     "output_type": "stream",
     "text": [
      "Fitting 3 folds for each of 3 candidates, totalling 9 fits\n",
      "==>> loaded pretrained_models/yolox-nano.pth, epoch 294\n",
      "  epoch    train_loss    valid_acc    valid_loss    cp     dur\n",
      "-------  ------------  -----------  ------------  ----  ------\n",
      "      1        \u001B[36m2.0832\u001B[0m       \u001B[32m0.3611\u001B[0m        \u001B[35m1.4421\u001B[0m     +  1.1885\n",
      "      2        2.1507       0.3472        1.5902        1.1808\n",
      "      3        \u001B[36m1.7718\u001B[0m       \u001B[32m0.5069\u001B[0m        \u001B[35m1.3305\u001B[0m     +  1.1824\n",
      "      4        \u001B[36m1.4863\u001B[0m       \u001B[32m0.5625\u001B[0m        \u001B[35m1.2810\u001B[0m     +  1.1878\n",
      "      5        \u001B[36m1.3462\u001B[0m       0.5278        \u001B[35m1.2248\u001B[0m     +  1.1882\n",
      "      6        \u001B[36m1.2045\u001B[0m       0.5556        \u001B[35m1.2173\u001B[0m     +  1.1887\n",
      "      7        \u001B[36m1.0981\u001B[0m       \u001B[32m0.6458\u001B[0m        \u001B[35m1.0728\u001B[0m     +  1.1894\n",
      "      8        \u001B[36m0.9736\u001B[0m       \u001B[32m0.6667\u001B[0m        \u001B[35m0.9842\u001B[0m     +  1.1895\n",
      "      9        \u001B[36m0.8921\u001B[0m       0.6389        \u001B[35m0.9770\u001B[0m     +  1.1891\n",
      "     10        \u001B[36m0.7661\u001B[0m       \u001B[32m0.7639\u001B[0m        \u001B[35m0.8397\u001B[0m     +  1.1928\n",
      "     11        \u001B[36m0.6572\u001B[0m       0.6528        0.9572        1.1881\n",
      "     12        \u001B[36m0.5336\u001B[0m       0.7639        \u001B[35m0.7625\u001B[0m     +  1.1828\n",
      "     13        \u001B[36m0.4698\u001B[0m       0.7292        0.8134        1.1893\n",
      "     14        \u001B[36m0.4200\u001B[0m       0.7639        \u001B[35m0.7001\u001B[0m     +  1.1839\n",
      "     15        \u001B[36m0.3358\u001B[0m       0.7361        0.8261        1.1892\n",
      "     16        \u001B[36m0.2782\u001B[0m       \u001B[32m0.8056\u001B[0m        0.7047        1.1832\n",
      "     17        \u001B[36m0.2539\u001B[0m       0.7569        0.7861        1.1836\n",
      "     18        \u001B[36m0.1954\u001B[0m       0.7986        \u001B[35m0.6649\u001B[0m     +  1.1827\n",
      "     19        \u001B[36m0.1616\u001B[0m       0.7708        0.8037        1.1842\n",
      "     20        \u001B[36m0.1294\u001B[0m       0.7847        0.7645        1.1830\n",
      "     21        \u001B[36m0.1010\u001B[0m       0.8056        0.7390        1.1828\n",
      "     22        \u001B[36m0.0902\u001B[0m       0.8056        0.7338        1.1839\n",
      "Stopping since valid_loss has not improved in the last 5 epochs.\n",
      "[CV 1/3] END module__dropout=0.25, module__hidden_features=128;, score=-0.780 total time=  45.3s\n",
      "==>> loaded pretrained_models/yolox-nano.pth, epoch 294\n",
      "  epoch    train_loss    valid_acc    valid_loss    cp     dur\n",
      "-------  ------------  -----------  ------------  ----  ------\n",
      "      1        \u001B[36m3.0319\u001B[0m       \u001B[32m0.2966\u001B[0m        \u001B[35m1.4930\u001B[0m     +  1.1838\n",
      "      2        \u001B[36m1.9733\u001B[0m       0.2897        \u001B[35m1.4758\u001B[0m     +  1.1870\n",
      "      3        \u001B[36m1.8015\u001B[0m       \u001B[32m0.4000\u001B[0m        \u001B[35m1.3783\u001B[0m     +  1.1923\n",
      "      4        \u001B[36m1.6248\u001B[0m       \u001B[32m0.5724\u001B[0m        \u001B[35m1.2984\u001B[0m     +  1.1927\n",
      "      5        \u001B[36m1.4595\u001B[0m       \u001B[32m0.5931\u001B[0m        \u001B[35m1.2560\u001B[0m     +  1.1915\n",
      "      6        \u001B[36m1.2961\u001B[0m       \u001B[32m0.6414\u001B[0m        \u001B[35m1.1610\u001B[0m     +  1.1914\n",
      "      7        \u001B[36m1.1666\u001B[0m       \u001B[32m0.6966\u001B[0m        \u001B[35m1.1050\u001B[0m     +  1.1921\n",
      "      8        \u001B[36m1.0439\u001B[0m       0.6828        \u001B[35m1.0664\u001B[0m     +  1.1935\n",
      "      9        \u001B[36m0.9374\u001B[0m       \u001B[32m0.7241\u001B[0m        \u001B[35m0.9731\u001B[0m     +  1.1918\n",
      "     10        \u001B[36m0.8523\u001B[0m       0.7034        \u001B[35m0.9238\u001B[0m     +  1.1929\n",
      "     11        \u001B[36m0.7238\u001B[0m       \u001B[32m0.7310\u001B[0m        \u001B[35m0.8519\u001B[0m     +  1.1934\n",
      "     12        \u001B[36m0.6660\u001B[0m       0.6897        0.9045        1.1938\n",
      "     13        \u001B[36m0.5639\u001B[0m       \u001B[32m0.7724\u001B[0m        \u001B[35m0.7614\u001B[0m     +  1.1871\n",
      "     14        \u001B[36m0.4700\u001B[0m       0.6069        0.9457        1.1940\n",
      "     15        \u001B[36m0.4564\u001B[0m       \u001B[32m0.7793\u001B[0m        0.7876        1.1874\n",
      "     16        \u001B[36m0.3961\u001B[0m       0.5931        1.0832        1.1866\n",
      "     17        \u001B[36m0.3619\u001B[0m       0.7655        0.7865        1.1871\n",
      "     18        \u001B[36m0.3086\u001B[0m       0.7517        \u001B[35m0.7401\u001B[0m     +  1.1891\n",
      "     19        \u001B[36m0.2229\u001B[0m       0.7655        0.7578        1.1891\n",
      "     20        \u001B[36m0.1708\u001B[0m       0.7793        \u001B[35m0.7023\u001B[0m     +  1.1888\n",
      "     21        \u001B[36m0.1323\u001B[0m       0.7793        0.7198        1.1952\n",
      "     22        \u001B[36m0.1028\u001B[0m       0.7793        0.7489        1.1878\n",
      "     23        \u001B[36m0.0966\u001B[0m       0.7793        0.7394        1.1875\n",
      "     24        \u001B[36m0.0736\u001B[0m       0.7586        0.7552        1.1887\n",
      "Stopping since valid_loss has not improved in the last 5 epochs.\n",
      "[CV 2/3] END module__dropout=0.25, module__hidden_features=128;, score=-0.730 total time=  51.3s\n",
      "==>> loaded pretrained_models/yolox-nano.pth, epoch 294\n",
      "  epoch    train_loss    valid_acc    valid_loss    cp     dur\n",
      "-------  ------------  -----------  ------------  ----  ------\n",
      "      1        \u001B[36m2.1470\u001B[0m       \u001B[32m0.3379\u001B[0m        \u001B[35m2.1294\u001B[0m     +  1.1867\n",
      "      2        2.4056       \u001B[32m0.3586\u001B[0m        \u001B[35m1.4448\u001B[0m     +  1.1951\n"
     ]
    }
   ],
   "source": [
    "''' Uncomment this for tuning hyperparameter and saving the best model\n",
    "\n",
    "device = 'cuda' if torch.cuda.is_available() else 'cpu'\n",
    "# Hyper parameter tuning with cross validation\n",
    "net = NeuralNetClassifier(\n",
    "    model,\n",
    "    max_epochs=15,\n",
    "    lr=0.001,\n",
    "    criterion=nn.CrossEntropyLoss(),\n",
    "    # Shuffle training data on each epoch\n",
    "    iterator_train__shuffle=True,\n",
    "    device=device,\n",
    "    optimizer=torch.optim.Adam\n",
    ")\n",
    "\n",
    "# deactivate skorch-internal train-valid split and verbose logging\n",
    "net.set_params(train_split=False,\n",
    "               # verbose=0\n",
    "               )\n",
    "# net.fit(inp_imgs[:20], torch.as_tensor(target[:20]))  # Make sure the model works on a small set of data\n",
    "params = {\n",
    "    'lr': [0.001, 0.0001, 0.00001]\n",
    "}\n",
    "# params = {\n",
    "#     'optimizer': [torch.optim.SGD, torch.optim.Adam]\n",
    "# }\n",
    "gs = GridSearchCV(net, params,\n",
    "                  # refit=False,\n",
    "                  cv=3,\n",
    "                  scoring='neg_log_loss',\n",
    "                  verbose=3, error_score='raise')\n",
    "\n",
    "gs.fit(inp_imgs, torch.as_tensor(target))\n",
    "print(\"best score: {:.3f}, best params: {}\".format(gs.best_score_, gs.best_params_))\n",
    "\n",
    "# Save best model to pickel file\n",
    "with open('yolox.pkl', 'wb') as f:\n",
    "    pickle.dump(gs, f)\n",
    "    \n",
    "    \n",
    "'''\n",
    "from skorch.callbacks import Checkpoint, EarlyStopping\n",
    "gc.collect()\n",
    "torch.cuda.empty_cache()\n",
    "params={'module__hidden_features': [128],\n",
    "       'module__dropout': [0.25,0.5,0.75]}\n",
    "\n",
    "net = NeuralNetClassifier(\n",
    "    # model,\n",
    "    module=generate_model,\n",
    "    module__opt=opt,\n",
    "    module__hidden_features=128,\n",
    "    module__dropout=0.25,\n",
    "    max_epochs=100,\n",
    "    lr=3e-4,\n",
    "    device=opt.device,\n",
    "    optimizer=torch.optim.Adam,\n",
    "    batch_size=256,\n",
    "    criterion=nn.CrossEntropyLoss(),\n",
    "    callbacks=[('checkpoint', Checkpoint()),\n",
    "               ('early_stopping', EarlyStopping())]\n",
    ")\n",
    "# net.fit(inp_imgs, torch.as_tensor(target))\n",
    "\n",
    "gs = GridSearchCV(net, params,\n",
    "                  # refit=False,\n",
    "                  cv=3,\n",
    "                  scoring='neg_log_loss',\n",
    "                  verbose=3, error_score='raise')\n",
    "\n",
    "gs.fit(inp_imgs, torch.as_tensor(target))"
   ]
  },
  {
   "cell_type": "code",
   "execution_count": null,
   "metadata": {},
   "outputs": [],
   "source": [
    "with open('yolox.pkl', 'wb') as f:\n",
    "    pickle.dump(gs, f)"
   ]
  },
  {
   "cell_type": "code",
   "execution_count": null,
   "metadata": {},
   "outputs": [],
   "source": [
    "# Load model from pickel file\n",
    "with open('yolox.pkl', 'rb') as f:\n",
    "    gs = pickle.load(f)"
   ]
  },
  {
   "cell_type": "code",
   "execution_count": null,
   "metadata": {},
   "outputs": [],
   "source": [
    "gs.best_params_"
   ]
  },
  {
   "cell_type": "code",
   "execution_count": null,
   "metadata": {
    "jupyter": {
     "outputs_hidden": false
    },
    "pycharm": {
     "name": "#%%\n"
    }
   },
   "outputs": [],
   "source": [
    "gs.predict(inp_imgs[:20]), target[:20]"
   ]
  },
  {
   "cell_type": "markdown",
   "metadata": {},
   "source": [
    "## 4. Evaluate both models on a withheld test set"
   ]
  },
  {
   "cell_type": "markdown",
   "metadata": {},
   "source": [
    "### I. Baseline Model"
   ]
  },
  {
   "cell_type": "code",
   "execution_count": 20,
   "metadata": {},
   "outputs": [
    {
     "name": "stderr",
     "output_type": "stream",
     "text": [
      "Premature end of JPEG file\n",
      "Corrupt JPEG data: premature end of data segment\n"
     ]
    }
   ],
   "source": [
    "# Predicting test \n",
    "test_path = \"dataset/test/\"\n",
    "y_pred = []\n",
    "y_test = []\n",
    "for subdir, dirs, files in os.walk(path):\n",
    "    for img in files:\n",
    "        temp = []\n",
    "        img = os.path.join(subdir, img)\n",
    "        img = cv2.imread(img)\n",
    "\n",
    "        imgRGB = cv2.cvtColor(img, cv2.COLOR_BGR2RGB)\n",
    "        blackie = np.zeros(img.shape) # Blank image\n",
    "        results = pose.process(imgRGB)\n",
    "\n",
    "        if results.pose_landmarks:\n",
    "                mpDraw.draw_landmarks(blackie, results.pose_landmarks, mpPose.POSE_CONNECTIONS) # draw landmarks on blackie\n",
    "                landmarks = results.pose_landmarks.landmark\n",
    "\n",
    "                for i,j in zip(points,landmarks):\n",
    "                        temp = temp + [j.x, j.y, j.z, j.visibility]\n",
    "                y_pred.append(baseline_model.predict([temp]))\n",
    "                y_test.append(labelencoder.transform([subdir.replace(path, '')])[0])"
   ]
  },
  {
   "cell_type": "code",
   "execution_count": 21,
   "metadata": {},
   "outputs": [],
   "source": [
    "# Evaluating the baseline model (SVM)\n",
    "baseline_report = classification_report(y_test, y_pred, target_names=labelencoder.classes_)"
   ]
  },
  {
   "cell_type": "markdown",
   "metadata": {},
   "source": [
    "### II. YOLOX Model"
   ]
  },
  {
   "cell_type": "code",
   "execution_count": 17,
   "metadata": {},
   "outputs": [
    {
     "name": "stderr",
     "output_type": "stream",
     "text": [
      "libpng warning: iCCP: known incorrect sRGB profile\n",
      "libpng warning: iCCP: known incorrect sRGB profile\n",
      "libpng warning: iCCP: known incorrect sRGB profile\n"
     ]
    }
   ],
   "source": [
    "path = \"dataset/test/\"\n",
    "\n",
    "# Creating Dataset\n",
    "y_test = []\n",
    "images_arrays = []\n",
    "\n",
    "for subdir, dirs, files in os.walk(path):\n",
    "    for img in files:\n",
    "        temp = []\n",
    "        img = os.path.join(subdir, img)\n",
    "        img = cv2.imread(img)\n",
    "\n",
    "        img, r = preproc(img, opt.test_size, opt.rgb_means, opt.std)\n",
    "        images_arrays.append(img)\n",
    "        y_test.append(subdir.replace(path, ''))\n",
    "\n",
    "\n",
    "test_imgs = np.zeros([len(images_arrays), 3, opt.test_size[0], opt.test_size[1]], dtype=np.float32)\n",
    "for b_i, image in enumerate(images_arrays):\n",
    "    test_imgs[b_i] = image\n",
    "\n",
    "test_imgs = test_imgs\n",
    "y_test = labelencoder.fit_transform(y_test)\n",
    "\n",
    "# Predictions\n",
    "y_pred = gs.predict(test_imgs)"
   ]
  },
  {
   "cell_type": "code",
   "execution_count": 19,
   "metadata": {},
   "outputs": [
    {
     "name": "stdout",
     "output_type": "stream",
     "text": [
      "              precision    recall  f1-score   support\n",
      "\n",
      "     downdog       0.94      0.70      0.80        97\n",
      "     goddess       0.79      0.78      0.78        80\n",
      "       plank       0.76      0.91      0.83       115\n",
      "        tree       0.90      0.93      0.91        69\n",
      "    warrior2       0.85      0.86      0.85       109\n",
      "\n",
      "    accuracy                           0.84       470\n",
      "   macro avg       0.85      0.84      0.84       470\n",
      "weighted avg       0.85      0.84      0.84       470\n",
      "\n"
     ]
    }
   ],
   "source": [
    "# Evaluating the YOLOX model\n",
    "yolox_report = classification_report(y_test, y_pred, target_names=labelencoder.classes_)\n",
    "print(yolox_report)"
   ]
  },
  {
   "cell_type": "markdown",
   "metadata": {
    "tags": []
   },
   "source": [
    "## 5. Display results on the test set for both models"
   ]
  },
  {
   "cell_type": "markdown",
   "metadata": {
    "tags": []
   },
   "source": [
    "### I. Baseline Model"
   ]
  },
  {
   "cell_type": "code",
   "execution_count": 24,
   "metadata": {},
   "outputs": [
    {
     "name": "stdout",
     "output_type": "stream",
     "text": [
      "              precision    recall  f1-score   support\n",
      "\n",
      "     downdog       0.99      0.97      0.98       196\n",
      "     goddess       0.93      0.84      0.88       164\n",
      "       plank       0.94      0.98      0.96       225\n",
      "        tree       0.97      0.85      0.91       136\n",
      "    warrior2       0.86      0.96      0.91       238\n",
      "\n",
      "    accuracy                           0.93       959\n",
      "   macro avg       0.94      0.92      0.93       959\n",
      "weighted avg       0.93      0.93      0.93       959\n",
      "\n"
     ]
    }
   ],
   "source": [
    "print(baseline_report)"
   ]
  },
  {
   "cell_type": "markdown",
   "metadata": {
    "tags": []
   },
   "source": [
    "### II. YOLOX Model"
   ]
  },
  {
   "cell_type": "code",
   "execution_count": 25,
   "metadata": {},
   "outputs": [
    {
     "name": "stdout",
     "output_type": "stream",
     "text": [
      "              precision    recall  f1-score   support\n",
      "\n",
      "     downdog       0.91      0.87      0.89        97\n",
      "     goddess       0.76      0.84      0.80        80\n",
      "       plank       0.89      0.85      0.87       115\n",
      "        tree       0.86      0.96      0.90        69\n",
      "    warrior2       0.90      0.85      0.88       109\n",
      "\n",
      "    accuracy                           0.87       470\n",
      "   macro avg       0.87      0.87      0.87       470\n",
      "weighted avg       0.87      0.87      0.87       470\n",
      "\n"
     ]
    }
   ],
   "source": [
    "print(yolox_report)"
   ]
  },
  {
   "cell_type": "code",
   "execution_count": null,
   "metadata": {},
   "outputs": [],
   "source": []
  }
 ],
 "metadata": {
  "colab": {
   "name": "deep_learning.ipynb",
   "provenance": []
  },
  "kernelspec": {
   "display_name": "Python 3 (ipykernel)",
   "language": "python",
   "name": "python3"
  },
  "language_info": {
   "codemirror_mode": {
    "name": "ipython",
    "version": 3
   },
   "file_extension": ".py",
   "mimetype": "text/x-python",
   "name": "python",
   "nbconvert_exporter": "python",
   "pygments_lexer": "ipython3",
   "version": "3.8.13"
  }
 },
 "nbformat": 4,
 "nbformat_minor": 4
}